{
  "nbformat": 4,
  "nbformat_minor": 0,
  "metadata": {
    "colab": {
      "provenance": [],
      "authorship_tag": "ABX9TyP+RNshNcQ0NYFXunGrwmy9",
      "include_colab_link": true
    },
    "kernelspec": {
      "name": "python3",
      "display_name": "Python 3"
    },
    "language_info": {
      "name": "python"
    }
  },
  "cells": [
    {
      "cell_type": "markdown",
      "metadata": {
        "id": "view-in-github",
        "colab_type": "text"
      },
      "source": [
        "<a href=\"https://colab.research.google.com/github/Danub2002/UFBA/blob/main/Confidence_Interval/confidence_interval.ipynb\" target=\"_parent\"><img src=\"https://colab.research.google.com/assets/colab-badge.svg\" alt=\"Open In Colab\"/></a>"
      ]
    },
    {
      "cell_type": "code",
      "execution_count": null,
      "metadata": {
        "id": "9LB0rRJ1LMd9"
      },
      "outputs": [],
      "source": [
        "import pandas as pd\n",
        "import matplotlib.pyplot as plt\n",
        "import seaborn as sns\n",
        "import scipy as sp\n",
        "import numpy as np\n",
        "import statistics\n",
        "from math import sqrt\n",
        "\n",
        "\n",
        "plt.style.use(\"ggplot\")"
      ]
    },
    {
      "cell_type": "code",
      "source": [
        "from google.colab import drive\n",
        "drive.mount('/content/drive')"
      ],
      "metadata": {
        "colab": {
          "base_uri": "https://localhost:8080/"
        },
        "id": "DieNIZ82elaw",
        "outputId": "f6523585-0a42-4265-c442-aeb4882cacaf"
      },
      "execution_count": null,
      "outputs": [
        {
          "output_type": "stream",
          "name": "stdout",
          "text": [
            "Drive already mounted at /content/drive; to attempt to forcibly remount, call drive.mount(\"/content/drive\", force_remount=True).\n"
          ]
        }
      ]
    },
    {
      "cell_type": "code",
      "source": [
        "# Funções\n",
        "\n",
        "\n",
        "def mean_confidence_interval_with_unkown_std(data, confidence = 0.95):\n",
        "  \"\"\"\"\n",
        "    Calcula o intervalo de confiança para a média com desvio padrão desconhecido\n",
        "  \"\"\"\n",
        "  sample_mean = data.mean()\n",
        "  sample_std = data.std()\n",
        "  \n",
        "  conf_inter = sp.stats.norm.interval(confidence, loc = sample_mean, scale = sample_std/np.sqrt(data.shape))\n",
        "\n",
        "  return [conf_inter[0][0], conf_inter[1][0]]\n",
        "\n",
        "\n",
        "\n",
        "def proportion_confidence_interval(feature,data, confidence = 0.95):\n",
        "  \"\"\"\n",
        "    Calcula o intervalo de confiança para a proporção populacional\n",
        "  \"\"\"\n",
        "\n",
        "  sample_proportion = len(feature)/len(data)\n",
        "\n",
        "  conf_inter =  sp.stats.norm.interval(confidence,loc = sample_proportion, scale = np.sqrt(sample_proportion * (1 - sample_proportion)/len(data)))\n",
        "  # Usando em scale data.shape ao inves de len(data) retornamos um array de arrays do numpy\n",
        "\n",
        "  return [conf_inter[0], conf_inter[1]]"
      ],
      "metadata": {
        "id": "DZb42paQ2bcK"
      },
      "execution_count": null,
      "outputs": []
    },
    {
      "cell_type": "markdown",
      "source": [
        "1. Construa um intervalo de confiança de 95% ´para a nota média na prova de\n",
        "matemática. Interprete o resultado."
      ],
      "metadata": {
        "id": "QruSOJY_NWNS"
      }
    },
    {
      "cell_type": "code",
      "source": [
        "data = pd.read_excel(\"/content/drive/MyDrive/DadosENEM2021_Bahia_Jiquirica.xlsx\")\n",
        "\n",
        "math_grades = data[\"NU_NOTA_MT\"]\n",
        "\n",
        "# Intervalo de confiança para a nota na prova de matemática\n",
        "\n",
        "print(\"Intervalo de confiança para a nota na prova de matemática\")\n",
        "print()\n",
        "\n",
        "ci_math = mean_confidence_interval_with_unkown_std(math_grades)\n",
        "\n",
        "\n",
        "print(\"erro padrao\", math_grades.mean()-ci_math[0])\n",
        "table_math= {\n",
        "    \"Limite Inferior\" : ci_math[0],\n",
        "    \"Limite Superior\" : ci_math[1],\n",
        "    \"Margem De Erro\" : abs(math_grades.mean()-ci_math[0])\n",
        "}\n",
        "\n",
        "ci_math_df = pd.DataFrame(table_math, index = [\"Valor\"])\n",
        "ci_math_df.style"
      ],
      "metadata": {
        "colab": {
          "base_uri": "https://localhost:8080/",
          "height": 133
        },
        "id": "F32150ZsLRX-",
        "outputId": "4e533114-e2db-45b0-a078-acb94af85545"
      },
      "execution_count": null,
      "outputs": [
        {
          "output_type": "stream",
          "name": "stdout",
          "text": [
            "Intervalo de confiança para a nota na prova de matemática\n",
            "\n",
            "erro padrao 9.817911812592513\n"
          ]
        },
        {
          "output_type": "execute_result",
          "data": {
            "text/plain": [
              "<pandas.io.formats.style.Styler at 0x7f677ce3f8d0>"
            ],
            "text/html": [
              "<style type=\"text/css\">\n",
              "</style>\n",
              "<table id=\"T_9cad0_\" class=\"dataframe\">\n",
              "  <thead>\n",
              "    <tr>\n",
              "      <th class=\"blank level0\" >&nbsp;</th>\n",
              "      <th class=\"col_heading level0 col0\" >Limite Inferior</th>\n",
              "      <th class=\"col_heading level0 col1\" >Limite Superior</th>\n",
              "      <th class=\"col_heading level0 col2\" >Margem De Erro</th>\n",
              "    </tr>\n",
              "  </thead>\n",
              "  <tbody>\n",
              "    <tr>\n",
              "      <th id=\"T_9cad0_level0_row0\" class=\"row_heading level0 row0\" >Valor</th>\n",
              "      <td id=\"T_9cad0_row0_col0\" class=\"data row0 col0\" >477.341292</td>\n",
              "      <td id=\"T_9cad0_row0_col1\" class=\"data row0 col1\" >496.977116</td>\n",
              "      <td id=\"T_9cad0_row0_col2\" class=\"data row0 col2\" >9.817912</td>\n",
              "    </tr>\n",
              "  </tbody>\n",
              "</table>\n"
            ]
          },
          "metadata": {},
          "execution_count": 95
        }
      ]
    },
    {
      "cell_type": "markdown",
      "source": [
        "2. Para o grupo das meninas, construa um intervalo de confiança de 95% para a\n",
        "nota média na prova de Linguagens e Códigos. "
      ],
      "metadata": {
        "id": "esZbjsU9Na3H"
      }
    },
    {
      "cell_type": "code",
      "source": [
        "\n",
        "\n",
        "\n",
        "# Intervalo de confiança para a nota na prova de linguagens para as meninas\n",
        "\n",
        "girls_lc_grades = data.loc[data.TP_SEXO == \"Feminino\"][\"NU_NOTA_LC\"]\n",
        "\n",
        "\n",
        "print(\"Intervalo de confiança para a nota na prova de linguagens para as meninas\")\n",
        "print()\n",
        "ci_girls_lc = mean_confidence_interval_with_unkown_std(girls_lc_grades)\n",
        "\n",
        "\n",
        "table_girls_lc= {\n",
        "    \"Limite Inferior\" : ci_girls_lc[0],\n",
        "    \"Limite Superior\" : ci_girls_lc[1],\n",
        "    \"Margem De Erro\" : abs(girls_lc_grades.mean() - ci_girls_lc[0])\n",
        "}\n",
        "\n",
        "ci_girls_lc_df = pd.DataFrame(table_girls_lc, index = [\"Valor\"])\n",
        "ci_girls_lc_df.style"
      ],
      "metadata": {
        "colab": {
          "base_uri": "https://localhost:8080/",
          "height": 115
        },
        "id": "ryqah2xXxDyl",
        "outputId": "7c58c205-1c9d-464c-812b-084cd45df15e"
      },
      "execution_count": null,
      "outputs": [
        {
          "output_type": "stream",
          "name": "stdout",
          "text": [
            "Intervalo de confiança para a nota na prova de linguagens para as meninas\n",
            "\n"
          ]
        },
        {
          "output_type": "execute_result",
          "data": {
            "text/plain": [
              "<pandas.io.formats.style.Styler at 0x7f677ce928d0>"
            ],
            "text/html": [
              "<style type=\"text/css\">\n",
              "</style>\n",
              "<table id=\"T_c7f10_\" class=\"dataframe\">\n",
              "  <thead>\n",
              "    <tr>\n",
              "      <th class=\"blank level0\" >&nbsp;</th>\n",
              "      <th class=\"col_heading level0 col0\" >Limite Inferior</th>\n",
              "      <th class=\"col_heading level0 col1\" >Limite Superior</th>\n",
              "      <th class=\"col_heading level0 col2\" >Margem De Erro</th>\n",
              "    </tr>\n",
              "  </thead>\n",
              "  <tbody>\n",
              "    <tr>\n",
              "      <th id=\"T_c7f10_level0_row0\" class=\"row_heading level0 row0\" >Valor</th>\n",
              "      <td id=\"T_c7f10_row0_col0\" class=\"data row0 col0\" >451.677255</td>\n",
              "      <td id=\"T_c7f10_row0_col1\" class=\"data row0 col1\" >472.166407</td>\n",
              "      <td id=\"T_c7f10_row0_col2\" class=\"data row0 col2\" >10.244576</td>\n",
              "    </tr>\n",
              "  </tbody>\n",
              "</table>\n"
            ]
          },
          "metadata": {},
          "execution_count": 94
        }
      ]
    },
    {
      "cell_type": "markdown",
      "source": [
        "3. Para o grupo dos meninos, construa um intervalo de confiança de 95% para a\n",
        "nota média na prova de Linguagens e Códigos"
      ],
      "metadata": {
        "id": "m046JW0WNvgX"
      }
    },
    {
      "cell_type": "code",
      "source": [
        "# Intervalo de confiança para a nota na prova de linguagens para as meninas\n",
        "\n",
        "boys_lc_grades = data.loc[data.TP_SEXO == \"Masculino\"][\"NU_NOTA_LC\"]\n",
        "\n",
        "print(\"Intervalo de confiança para a nota na prova de linguagens para as meninas\", end = \"\\n\")\n",
        "print()\n",
        "ci_boys_lc = mean_confidence_interval_with_unkown_std(boys_lc_grades)\n",
        "\n",
        "table_boys_lc= {\n",
        "    \"Limite Inferior\" : ci_boys_lc[0],\n",
        "    \"Limite Superior\" : ci_boys_lc[1],\n",
        "    \"Margem De Erro\" : abs(boys_lc_grades.mean() - ci_boys_lc[0])\n",
        "}\n",
        "\n",
        "\n",
        "ci_boys_lc_df = pd.DataFrame(table_boys_lc, index = [\"Valor\"])\n",
        "ci_boys_lc_df.style"
      ],
      "metadata": {
        "colab": {
          "base_uri": "https://localhost:8080/",
          "height": 115
        },
        "id": "H0QMPU5e1ANi",
        "outputId": "58a3663c-7626-4847-d401-c1eb5abe719e"
      },
      "execution_count": null,
      "outputs": [
        {
          "output_type": "stream",
          "name": "stdout",
          "text": [
            "Intervalo de confiança para a nota na prova de linguagens para as meninas\n",
            "\n"
          ]
        },
        {
          "output_type": "execute_result",
          "data": {
            "text/plain": [
              "<pandas.io.formats.style.Styler at 0x7f677ce465d0>"
            ],
            "text/html": [
              "<style type=\"text/css\">\n",
              "</style>\n",
              "<table id=\"T_75019_\" class=\"dataframe\">\n",
              "  <thead>\n",
              "    <tr>\n",
              "      <th class=\"blank level0\" >&nbsp;</th>\n",
              "      <th class=\"col_heading level0 col0\" >Limite Inferior</th>\n",
              "      <th class=\"col_heading level0 col1\" >Limite Superior</th>\n",
              "      <th class=\"col_heading level0 col2\" >Margem De Erro</th>\n",
              "    </tr>\n",
              "  </thead>\n",
              "  <tbody>\n",
              "    <tr>\n",
              "      <th id=\"T_75019_level0_row0\" class=\"row_heading level0 row0\" >Valor</th>\n",
              "      <td id=\"T_75019_row0_col0\" class=\"data row0 col0\" >461.198211</td>\n",
              "      <td id=\"T_75019_row0_col1\" class=\"data row0 col1\" >493.726427</td>\n",
              "      <td id=\"T_75019_row0_col2\" class=\"data row0 col2\" >16.264108</td>\n",
              "    </tr>\n",
              "  </tbody>\n",
              "</table>\n"
            ]
          },
          "metadata": {},
          "execution_count": 97
        }
      ]
    },
    {
      "cell_type": "markdown",
      "source": [
        "5. Construa um intervalo de confiança de 95% separados para meninas e\n",
        "meninos e verifique se há evidências de diferença significativa entre meninos\n",
        "e meninas na nota da prova de Matemática."
      ],
      "metadata": {
        "id": "WOeQJs6aNxa6"
      }
    },
    {
      "cell_type": "code",
      "source": [
        "\n",
        "# Comparar o intervalo de confiança da prova de LC para meninas e meninos\n",
        "\n",
        "\"\"\"\n",
        "  OBS: Se existe intersecção no intervalo, não podemos concluir nada sobre\n",
        "\"\"\"\n",
        "boys_mt_grades = data.loc[data.TP_SEXO == \"Masculino\"][\"NU_NOTA_MT\"]\n",
        "girls_mt_grades = data.loc[data.TP_SEXO == \"Feminino\"][\"NU_NOTA_MT\"]\n",
        "\n",
        "\n",
        "ci_boys_mt = mean_confidence_interval_with_unkown_std(boys_mt_grades)\n",
        "\n",
        "\n",
        "ci_girls_mt = mean_confidence_interval_with_unkown_std(girls_mt_grades)\n",
        "\n",
        "table_math_and_sex= {\n",
        "    \"Limite Inferior\" : [ci_boys_mt[0],ci_girls_mt[0]],\n",
        "    \"Limite Superior\" : [ci_boys_mt[1],ci_girls_mt[1]],\n",
        "    \"Margem de Erro\" : [abs(boys_mt_grades.mean()- ci_boys_mt[0]), abs(girls_mt_grades.mean()-ci_girls_mt[0])]\n",
        "}\n",
        "\n",
        "print(\"Comparação do intervalo de confiança da prova de LC para meninas e meninos\")\n",
        "print()\n",
        "ci_math_and_sex_df = pd.DataFrame(table_math_and_sex,index = [\"Meninos\",\"Meninas\"])\n",
        "ci_math_and_sex_df.style"
      ],
      "metadata": {
        "colab": {
          "base_uri": "https://localhost:8080/",
          "height": 147
        },
        "id": "DbO7NVm4lbOb",
        "outputId": "2d34f288-f609-4f63-9689-7d4dca0090b5"
      },
      "execution_count": null,
      "outputs": [
        {
          "output_type": "stream",
          "name": "stdout",
          "text": [
            "Comparação do intervalo de confiança da prova de LC para meninas e meninos\n",
            "\n"
          ]
        },
        {
          "output_type": "execute_result",
          "data": {
            "text/plain": [
              "<pandas.io.formats.style.Styler at 0x7f677ce3fbd0>"
            ],
            "text/html": [
              "<style type=\"text/css\">\n",
              "</style>\n",
              "<table id=\"T_273da_\" class=\"dataframe\">\n",
              "  <thead>\n",
              "    <tr>\n",
              "      <th class=\"blank level0\" >&nbsp;</th>\n",
              "      <th class=\"col_heading level0 col0\" >Limite Inferior</th>\n",
              "      <th class=\"col_heading level0 col1\" >Limite Superior</th>\n",
              "      <th class=\"col_heading level0 col2\" >Margem de Erro</th>\n",
              "    </tr>\n",
              "  </thead>\n",
              "  <tbody>\n",
              "    <tr>\n",
              "      <th id=\"T_273da_level0_row0\" class=\"row_heading level0 row0\" >Meninos</th>\n",
              "      <td id=\"T_273da_row0_col0\" class=\"data row0 col0\" >483.853788</td>\n",
              "      <td id=\"T_273da_row0_col1\" class=\"data row0 col1\" >523.143226</td>\n",
              "      <td id=\"T_273da_row0_col2\" class=\"data row0 col2\" >19.644719</td>\n",
              "    </tr>\n",
              "    <tr>\n",
              "      <th id=\"T_273da_level0_row1\" class=\"row_heading level0 row1\" >Meninas</th>\n",
              "      <td id=\"T_273da_row1_col0\" class=\"data row1 col0\" >468.016099</td>\n",
              "      <td id=\"T_273da_row1_col1\" class=\"data row1 col1\" >489.963005</td>\n",
              "      <td id=\"T_273da_row1_col2\" class=\"data row1 col2\" >10.973453</td>\n",
              "    </tr>\n",
              "  </tbody>\n",
              "</table>\n"
            ]
          },
          "metadata": {},
          "execution_count": 98
        }
      ]
    },
    {
      "cell_type": "markdown",
      "source": [
        "6. Construa um intervalo de confiança de 95% para proporção de meninas que\n",
        "realizam a prova do ENEM."
      ],
      "metadata": {
        "id": "DuXQ6V-8N1Le"
      }
    },
    {
      "cell_type": "code",
      "source": [
        "# Intervalo de Confiança para a proporção de meninas que realizam a prova\n",
        "\n",
        "girls = data[data.TP_SEXO == \"Feminino\"]\n",
        "\n",
        "girls_proportion = len(girls)/len(data)\n",
        "ci_girls_proportion = proportion_confidence_interval(girls,data)\n",
        "\n",
        "girls_proportion_table = {\n",
        "    \"Limite Inferior\" : ci_girls_proportion[0],\n",
        "    \"Limite Superior\" : ci_girls_proportion[1],\n",
        "    \"Margem De Erro\" : abs(girls_proportion - ci_girls_proportion[0])\n",
        "}\n",
        "\n",
        "print(\"Intervalo de Confiança para a proporção de meninas que realizam a prova\")\n",
        "print()\n",
        "ci_girls_proportion_df = pd.DataFrame(girls_proportion_table, index = [\"Proporção\"])\n",
        "ci_girls_proportion_df.style\n"
      ],
      "metadata": {
        "colab": {
          "base_uri": "https://localhost:8080/",
          "height": 115
        },
        "id": "_ShflkNERg_M",
        "outputId": "96256e48-250f-44e0-caa3-49c6d96a82d1"
      },
      "execution_count": null,
      "outputs": [
        {
          "output_type": "stream",
          "name": "stdout",
          "text": [
            "Intervalo de Confiança para a proporção de meninas que realizam a prova\n",
            "\n"
          ]
        },
        {
          "output_type": "execute_result",
          "data": {
            "text/plain": [
              "<pandas.io.formats.style.Styler at 0x7f677cf4c350>"
            ],
            "text/html": [
              "<style type=\"text/css\">\n",
              "</style>\n",
              "<table id=\"T_501f9_\" class=\"dataframe\">\n",
              "  <thead>\n",
              "    <tr>\n",
              "      <th class=\"blank level0\" >&nbsp;</th>\n",
              "      <th class=\"col_heading level0 col0\" >Limite Inferior</th>\n",
              "      <th class=\"col_heading level0 col1\" >Limite Superior</th>\n",
              "      <th class=\"col_heading level0 col2\" >Margem De Erro</th>\n",
              "    </tr>\n",
              "  </thead>\n",
              "  <tbody>\n",
              "    <tr>\n",
              "      <th id=\"T_501f9_level0_row0\" class=\"row_heading level0 row0\" >Proporção</th>\n",
              "      <td id=\"T_501f9_row0_col0\" class=\"data row0 col0\" >0.640107</td>\n",
              "      <td id=\"T_501f9_row0_col1\" class=\"data row0 col1\" >0.748984</td>\n",
              "      <td id=\"T_501f9_row0_col2\" class=\"data row0 col2\" >0.054438</td>\n",
              "    </tr>\n",
              "  </tbody>\n",
              "</table>\n"
            ]
          },
          "metadata": {},
          "execution_count": 100
        }
      ]
    },
    {
      "cell_type": "markdown",
      "source": [
        "7. Construa um intervalo de confiança de 95% para proporção de meninos que\n",
        "realizam a prova do ENEM."
      ],
      "metadata": {
        "id": "S6b5KvDDN3De"
      }
    },
    {
      "cell_type": "code",
      "source": [
        "# Intervalo de Confiança para a proporção de meninos que realizam a prova\n",
        "\n",
        "boys = data[data.TP_SEXO == \"Masculino\"]\n",
        "\n",
        "boys_proportion = len(boys)/len(data)\n",
        "\n",
        "ci_boys_proportion = proportion_confidence_interval(boys,data)\n",
        "\n",
        "boys_proportion_table = {\n",
        "    \"Limite Inferior\" : ci_boys_proportion[0],\n",
        "    \"Limite Superior\" : ci_boys_proportion[1],\n",
        "    \"Margem De Erro\" : abs(boys_proportion - ci_boys_proportion[0])\n",
        "}\n",
        "\n",
        "print(\"Intervalo de Confiança para a proporção de meninos que realizam a prova\")\n",
        "print()\n",
        "ci_boys_proportion_df = pd.DataFrame(boys_proportion_table, index = [\"Proporção\"])\n",
        "ci_boys_proportion_df.style\n"
      ],
      "metadata": {
        "colab": {
          "base_uri": "https://localhost:8080/",
          "height": 115
        },
        "id": "w6HPMRZVLsaQ",
        "outputId": "52fa057a-71b3-48cc-f248-f1e2b41c0d62"
      },
      "execution_count": null,
      "outputs": [
        {
          "output_type": "stream",
          "name": "stdout",
          "text": [
            "Intervalo de Confiança para a proporção de meninos que realizam a prova\n",
            "\n"
          ]
        },
        {
          "output_type": "execute_result",
          "data": {
            "text/plain": [
              "<pandas.io.formats.style.Styler at 0x7f677ceca390>"
            ],
            "text/html": [
              "<style type=\"text/css\">\n",
              "</style>\n",
              "<table id=\"T_df1de_\" class=\"dataframe\">\n",
              "  <thead>\n",
              "    <tr>\n",
              "      <th class=\"blank level0\" >&nbsp;</th>\n",
              "      <th class=\"col_heading level0 col0\" >Limite Inferior</th>\n",
              "      <th class=\"col_heading level0 col1\" >Limite Superior</th>\n",
              "      <th class=\"col_heading level0 col2\" >Margem De Erro</th>\n",
              "    </tr>\n",
              "  </thead>\n",
              "  <tbody>\n",
              "    <tr>\n",
              "      <th id=\"T_df1de_level0_row0\" class=\"row_heading level0 row0\" >Proporção</th>\n",
              "      <td id=\"T_df1de_row0_col0\" class=\"data row0 col0\" >0.251016</td>\n",
              "      <td id=\"T_df1de_row0_col1\" class=\"data row0 col1\" >0.359893</td>\n",
              "      <td id=\"T_df1de_row0_col2\" class=\"data row0 col2\" >0.054438</td>\n",
              "    </tr>\n",
              "  </tbody>\n",
              "</table>\n"
            ]
          },
          "metadata": {},
          "execution_count": 102
        }
      ]
    }
  ]
}